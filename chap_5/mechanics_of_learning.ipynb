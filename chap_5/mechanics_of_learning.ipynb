{
 "cells": [
  {
   "cell_type": "code",
   "execution_count": 27,
   "metadata": {},
   "outputs": [],
   "source": [
    "import torch\n",
    "import torch.optim as optim\n",
    "import matplotlib.pyplot as plt\n",
    "%matplotlib inline"
   ]
  },
  {
   "cell_type": "code",
   "execution_count": 18,
   "metadata": {},
   "outputs": [],
   "source": [
    "t_c = [0.5, 14.0, 15.0, 28.0, 11.0, 8.0, 3.0, -4.0, 6.0, 13.0, 21.0]\n",
    "t_u = [35.7, 55.9, 58.2, 81.9, 56.3, 48.9, 33.9, 21.8, 48.4, 60.4, 68.4]"
   ]
  },
  {
   "cell_type": "code",
   "execution_count": 19,
   "metadata": {},
   "outputs": [],
   "source": [
    "t_c = torch.tensor(t_c) # temperature in celcius\n",
    "t_u = torch.tensor(t_u) # temperature in unknown unit"
   ]
  },
  {
   "cell_type": "code",
   "execution_count": 20,
   "metadata": {},
   "outputs": [],
   "source": [
    "def model(t_u,params):\n",
    "    return (t_u*params[0]+params[1])"
   ]
  },
  {
   "cell_type": "code",
   "execution_count": 21,
   "metadata": {},
   "outputs": [],
   "source": [
    "def loss_fn(y_p, y):\n",
    "    mse = (y_p-y)**2\n",
    "    return torch.mean(mse)"
   ]
  },
  {
   "cell_type": "code",
   "execution_count": 22,
   "metadata": {},
   "outputs": [],
   "source": [
    "def train(epoch,t_un,t_cn,params,lr=0.01):\n",
    "    for i in range(epoch):\n",
    "        t_pn = model(t_un,params)\n",
    "        loss = loss_fn(t_pn,t_cn)\n",
    "        if(params.grad is not None):\n",
    "            params.grad.zero_()\n",
    "        loss.backward()\n",
    "        with torch.no_grad():\n",
    "            params -= lr*params.grad\n",
    "        if(i%500 ==0):\n",
    "            print(\"Epoch = {}. Loss = {}\".format(i,loss))       "
   ]
  },
  {
   "cell_type": "code",
   "execution_count": 23,
   "metadata": {
    "scrolled": true
   },
   "outputs": [],
   "source": [
    "t_un = 0.1*t_u\n",
    "t_cn = 0.1*t_c\n",
    "params = torch.tensor([1.0,0.0], requires_grad=True)"
   ]
  },
  {
   "cell_type": "code",
   "execution_count": 24,
   "metadata": {
    "scrolled": true
   },
   "outputs": [
    {
     "name": "stdout",
     "output_type": "stream",
     "text": [
      "Epoch = 0. Loss = 80.36434173583984\n",
      "Epoch = 500. Loss = 7.843369960784912\n",
      "Epoch = 1000. Loss = 3.825483560562134\n",
      "Epoch = 1500. Loss = 3.091630697250366\n",
      "Epoch = 2000. Loss = 2.9575958251953125\n",
      "Epoch = 2500. Loss = 2.9331159591674805\n",
      "Epoch = 3000. Loss = 2.9286458492279053\n",
      "Epoch = 3500. Loss = 2.9278295040130615\n"
     ]
    }
   ],
   "source": [
    "train(4000,t_un,t_c,params,lr=0.01)"
   ]
  },
  {
   "cell_type": "code",
   "execution_count": 26,
   "metadata": {},
   "outputs": [
    {
     "data": {
      "text/plain": [
       "tensor([  5.3643, -17.2853], requires_grad=True)"
      ]
     },
     "execution_count": 26,
     "metadata": {},
     "output_type": "execute_result"
    }
   ],
   "source": [
    "params"
   ]
  },
  {
   "cell_type": "code",
   "execution_count": 25,
   "metadata": {},
   "outputs": [
    {
     "data": {
      "image/png": "[encoded data removed]",
      "text/plain": [
       "<Figure size 432x288 with 1 Axes>"
      ]
     },
     "metadata": {
      "needs_background": "light"
     },
     "output_type": "display_data"
    }
   ],
   "source": [
    "with torch.no_grad():\n",
    "    plt.scatter(0.1*t_u,0.1*t_c)\n",
    "    t_pr = model(0.1*t_u,params)\n",
    "    plt.plot(0.1*t_u,0.1*t_pr)\n",
    "    plt.show()"
   ]
  },
  {
   "cell_type": "markdown",
   "metadata": {},
   "source": [
    "# With optimizer"
   ]
  },
  {
   "cell_type": "code",
   "execution_count": 29,
   "metadata": {},
   "outputs": [
    {
     "data": {
      "text/plain": [
       "['ASGD',\n",
       " 'Adadelta',\n",
       " 'Adagrad',\n",
       " 'Adam',\n",
       " 'AdamW',\n",
       " 'Adamax',\n",
       " 'LBFGS',\n",
       " 'Optimizer',\n",
       " 'RMSprop',\n",
       " 'Rprop',\n",
       " 'SGD',\n",
       " 'SparseAdam',\n",
       " '__builtins__',\n",
       " '__cached__',\n",
       " '__doc__',\n",
       " '__file__',\n",
       " '__loader__',\n",
       " '__name__',\n",
       " '__package__',\n",
       " '__path__',\n",
       " '__spec__',\n",
       " 'lr_scheduler']"
      ]
     },
     "execution_count": 29,
     "metadata": {},
     "output_type": "execute_result"
    }
   ],
   "source": [
    "dir(optim)"
   ]
  },
  {
   "cell_type": "code",
   "execution_count": 31,
   "metadata": {},
   "outputs": [],
   "source": [
    "\n"
   ]
  },
  {
   "cell_type": "code",
   "execution_count": 104,
   "metadata": {},
   "outputs": [],
   "source": [
    "def train(epoch,t_u, t_c, optimizer, params):\n",
    "    for i in range(epoch+1):\n",
    "        t_p = model(t_u, params)\n",
    "        loss = loss_fn(t_p, t_c)\n",
    "        optimizer.zero_grad()\n",
    "        loss.backward()\n",
    "        optimizer.step()\n",
    "        if(i%500 == 0):\n",
    "            print(\"Epoch: {}. Loss: {}\".format(i,loss))"
   ]
  },
  {
   "cell_type": "code",
   "execution_count": 94,
   "metadata": {},
   "outputs": [],
   "source": [
    "params = torch.tensor([1.0,0.0],requires_grad = True)\n",
    "learning_rate = 1e-2\n",
    "optimizer = optim.SGD([params], lr=learning_rate)\n",
    "t_un = 0.1*t_u"
   ]
  },
  {
   "cell_type": "code",
   "execution_count": 95,
   "metadata": {},
   "outputs": [
    {
     "name": "stdout",
     "output_type": "stream",
     "text": [
      "Epoch: 0. Loss: 80.36434173583984\n",
      "Epoch: 500. Loss: 7.843371391296387\n",
      "Epoch: 1000. Loss: 3.825483560562134\n",
      "Epoch: 1500. Loss: 3.091630697250366\n",
      "Epoch: 2000. Loss: 2.9575958251953125\n",
      "Epoch: 2500. Loss: 2.9331159591674805\n",
      "Epoch: 3000. Loss: 2.9286458492279053\n",
      "Epoch: 3500. Loss: 2.9278295040130615\n",
      "Epoch: 4000. Loss: 2.927680015563965\n",
      "Epoch: 4500. Loss: 2.92765212059021\n"
     ]
    }
   ],
   "source": [
    "train(5000, t_u = t_un, t_c = t_c,optimizer=optimizer, params = params )"
   ]
  },
  {
   "cell_type": "code",
   "execution_count": 105,
   "metadata": {},
   "outputs": [],
   "source": [
    "params = torch.tensor([1.0,0.0],requires_grad = True)\n",
    "learning_rate = 1e-1\n",
    "adma_optimizer = optim.Adam([params], lr=learning_rate)"
   ]
  },
  {
   "cell_type": "code",
   "execution_count": 106,
   "metadata": {},
   "outputs": [
    {
     "name": "stdout",
     "output_type": "stream",
     "text": [
      "Epoch: 0. Loss: 1763.8846435546875\n",
      "Epoch: 500. Loss: 7.588878154754639\n",
      "Epoch: 1000. Loss: 3.085362195968628\n",
      "Epoch: 1500. Loss: 2.9285659790039062\n",
      "Epoch: 2000. Loss: 2.9276459217071533\n"
     ]
    }
   ],
   "source": [
    "train(2000, t_u = t_u, t_c = t_c,optimizer=adma_optimizer, params = params )"
   ]
  },
  {
   "cell_type": "code",
   "execution_count": 107,
   "metadata": {},
   "outputs": [
    {
     "data": {
      "text/plain": [
       "0.1"
      ]
     },
     "execution_count": 107,
     "metadata": {},
     "output_type": "execute_result"
    }
   ],
   "source": [
    "1e-1"
   ]
  },
  {
   "cell_type": "code",
   "execution_count": 155,
   "metadata": {},
   "outputs": [],
   "source": [
    "samples = t_u.shape[0]\n",
    "val_samples = int(0.2*samples)\n",
    "shuffeled_indices = torch.randperm(samples)\n",
    "train_indices = shuffeled_indices[:-val_samples]\n",
    "val_indices = shuffeled_indices[-val_samples:]"
   ]
  },
  {
   "cell_type": "code",
   "execution_count": 156,
   "metadata": {},
   "outputs": [
    {
     "data": {
      "text/plain": [
       "(torch.Size([9]), torch.Size([2]))"
      ]
     },
     "execution_count": 156,
     "metadata": {},
     "output_type": "execute_result"
    }
   ],
   "source": [
    "train_indices.shape, val_indices.shape"
   ]
  },
  {
   "cell_type": "code",
   "execution_count": 157,
   "metadata": {},
   "outputs": [
    {
     "data": {
      "text/plain": [
       "(tensor([ 6,  3,  1,  4, 10,  9,  2,  0,  7]), tensor([5, 8]))"
      ]
     },
     "execution_count": 157,
     "metadata": {},
     "output_type": "execute_result"
    }
   ],
   "source": [
    "train_indices, val_indices"
   ]
  },
  {
   "cell_type": "code",
   "execution_count": 158,
   "metadata": {},
   "outputs": [],
   "source": [
    "train_t_u = t_u[train_indices]\n",
    "val_t_u = t_u[val_indices]\n",
    "\n",
    "train_t_c = t_c[train_indices]\n",
    "val_t_c = t_c[val_indices]\n",
    "\n",
    "train_t_un = 0.1*train_t_u\n",
    "val_t_un = 0.1*val_t_u"
   ]
  },
  {
   "cell_type": "code",
   "execution_count": 173,
   "metadata": {},
   "outputs": [],
   "source": [
    "def train(epoch, train_t_u, val_t_u, train_t_c, val_t_c, optimizer, params):\n",
    "    for i in range(epoch+1):\n",
    "        train_t_p = model(train_t_u, params)\n",
    "        train_loss = loss_fn(train_t_p, train_t_c)\n",
    "        val_t_p = model(val_t_u,params).detach()\n",
    "        val_loss = loss_fn(val_t_p,val_t_c).detach()\n",
    "        \n",
    "        optimizer.zero_grad()\n",
    "        train_loss.backward()\n",
    "        optimizer.step()\n",
    "        if(i%500 == 0):\n",
    "            print(\"Epoch: {}. Training Loss: {}. Validation Loss: {}.\".format(i,train_loss,val_loss))"
   ]
  },
  {
   "cell_type": "code",
   "execution_count": 174,
   "metadata": {},
   "outputs": [],
   "source": [
    "params = torch.tensor([1.0,0.0],requires_grad=True)\n",
    "learning_rate = 1e-2\n",
    "optimizer = optim.SGD([params], lr=learning_rate)"
   ]
  },
  {
   "cell_type": "code",
   "execution_count": 175,
   "metadata": {},
   "outputs": [
    {
     "name": "stdout",
     "output_type": "stream",
     "text": [
      "Epoch: 0. Training Loss: 96.99889373779297. Validation Loss: 5.508849143981934.\n",
      "Epoch: 500. Training Loss: 6.522721290588379. Validation Loss: 11.466014862060547.\n",
      "Epoch: 1000. Training Loss: 3.0689449310302734. Validation Loss: 7.612099647521973.\n",
      "Epoch: 1500. Training Loss: 2.5911972522735596. Validation Loss: 6.3945488929748535.\n",
      "Epoch: 2000. Training Loss: 2.5251121520996094. Validation Loss: 5.97157096862793.\n",
      "Epoch: 2500. Training Loss: 2.5159685611724854. Validation Loss: 5.818385124206543.\n",
      "Epoch: 3000. Training Loss: 2.514705181121826. Validation Loss: 5.761990070343018.\n",
      "Epoch: 3500. Training Loss: 2.514530658721924. Validation Loss: 5.741097450256348.\n",
      "Epoch: 4000. Training Loss: 2.5145058631896973. Validation Loss: 5.73332405090332.\n",
      "Epoch: 4500. Training Loss: 2.5145018100738525. Validation Loss: 5.730440139770508.\n",
      "Epoch: 5000. Training Loss: 2.514502763748169. Validation Loss: 5.7294087409973145.\n"
     ]
    }
   ],
   "source": [
    "train(epoch = 5000,\n",
    "              optimizer = optimizer,\n",
    "              params = params,\n",
    "              train_t_u = train_t_un,\n",
    "              val_t_u = val_t_un,\n",
    "              train_t_c = train_t_c,\n",
    "              val_t_c = val_t_c)"
   ]
  }
 ],
 "metadata": {
  "kernelspec": {
   "display_name": "Python 3",
   "language": "python",
   "name": "python3"
  },
  "language_info": {
   "codemirror_mode": {
    "name": "ipython",
    "version": 3
   },
   "file_extension": ".py",
   "mimetype": "text/x-python",
   "name": "python",
   "nbconvert_exporter": "python",
   "pygments_lexer": "ipython3",
   "version": "3.8.3"
  }
 },
 "nbformat": 4,
 "nbformat_minor": 4
}
