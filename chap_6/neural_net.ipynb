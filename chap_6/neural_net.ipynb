{
 "cells": [
  {
   "cell_type": "code",
   "execution_count": 31,
   "metadata": {},
   "outputs": [],
   "source": [
    "import torch\n",
    "import torch.optim as optim\n",
    "import torch.nn as nn\n",
    "from collections import OrderedDict"
   ]
  },
  {
   "cell_type": "code",
   "execution_count": 8,
   "metadata": {},
   "outputs": [],
   "source": [
    "t_c = [0.5, 14.0, 15.0, 28.0, 11.0, 8.0, 3.0, -4.0, 6.0, 13.0, 21.0]\n",
    "t_u = [35.7, 55.9, 58.2, 81.9, 56.3, 48.9, 33.9, 21.8, 48.4, 60.4, 68.4]"
   ]
  },
  {
   "cell_type": "code",
   "execution_count": 9,
   "metadata": {},
   "outputs": [
    {
     "data": {
      "text/plain": [
       "(tensor([[ 0.5000],\n",
       "         [14.0000],\n",
       "         [15.0000],\n",
       "         [28.0000],\n",
       "         [11.0000],\n",
       "         [ 8.0000],\n",
       "         [ 3.0000],\n",
       "         [-4.0000],\n",
       "         [ 6.0000],\n",
       "         [13.0000],\n",
       "         [21.0000]]),\n",
       " tensor([[35.7000],\n",
       "         [55.9000],\n",
       "         [58.2000],\n",
       "         [81.9000],\n",
       "         [56.3000],\n",
       "         [48.9000],\n",
       "         [33.9000],\n",
       "         [21.8000],\n",
       "         [48.4000],\n",
       "         [60.4000],\n",
       "         [68.4000]]))"
      ]
     },
     "execution_count": 9,
     "metadata": {},
     "output_type": "execute_result"
    }
   ],
   "source": [
    "t_c = torch.tensor(t_c).unsqueeze(1)\n",
    "t_u = torch.tensor(t_u).unsqueeze(1)"
   ]
  },
  {
   "cell_type": "code",
   "execution_count": 16,
   "metadata": {},
   "outputs": [],
   "source": [
    "def train(epoch, t_u, t_c, model, loss_fn, optimizer):\n",
    "    for i in range(epoch):\n",
    "        t_p = model(t_u)\n",
    "        loss = loss_fn(t_p, t_c)\n",
    "        optimizer.zero_grad()\n",
    "        loss.backward()\n",
    "        optimizer.step()\n",
    "        if(i%500 == 0):\n",
    "            print(\"Epoch: {}. Loss: {}.\".format(i,loss))\n",
    "        "
   ]
  },
  {
   "cell_type": "code",
   "execution_count": 19,
   "metadata": {},
   "outputs": [],
   "source": [
    "model = nn.Linear(1,1)\n",
    "learning_rate = 1e-2\n",
    "optimizer = optim.SGD(model.parameters(), lr=learning_rate)"
   ]
  },
  {
   "cell_type": "code",
   "execution_count": 20,
   "metadata": {},
   "outputs": [
    {
     "name": "stdout",
     "output_type": "stream",
     "text": [
      "Epoch: 0. Loss: 286.6715087890625.\n",
      "Epoch: 500. Loss: 7.941466808319092.\n",
      "Epoch: 1000. Loss: 3.843402862548828.\n",
      "Epoch: 1500. Loss: 3.0949034690856934.\n",
      "Epoch: 2000. Loss: 2.9581944942474365.\n",
      "Epoch: 2500. Loss: 2.933225393295288.\n",
      "Epoch: 3000. Loss: 2.928663730621338.\n",
      "Epoch: 3500. Loss: 2.9278335571289062.\n",
      "Epoch: 4000. Loss: 2.927680730819702.\n",
      "Epoch: 4500. Loss: 2.9276514053344727.\n"
     ]
    }
   ],
   "source": [
    "train(5000, t_u = 0.1*t_u, t_c=t_c, model = model, loss_fn=nn.MSELoss(), optimizer=optimizer)"
   ]
  },
  {
   "cell_type": "code",
   "execution_count": 22,
   "metadata": {},
   "outputs": [
    {
     "data": {
      "text/plain": [
       "[Parameter containing:\n",
       " tensor([[5.3671]], requires_grad=True),\n",
       " Parameter containing:\n",
       " tensor([-17.3012], requires_grad=True)]"
      ]
     },
     "execution_count": 22,
     "metadata": {},
     "output_type": "execute_result"
    }
   ],
   "source": [
    "list(model.parameters())"
   ]
  },
  {
   "cell_type": "code",
   "execution_count": 24,
   "metadata": {},
   "outputs": [
    {
     "data": {
      "text/plain": [
       "Sequential(\n",
       "  (0): Linear(in_features=1, out_features=13, bias=True)\n",
       "  (1): Tanh()\n",
       "  (2): Linear(in_features=13, out_features=1, bias=True)\n",
       ")"
      ]
     },
     "execution_count": 24,
     "metadata": {},
     "output_type": "execute_result"
    }
   ],
   "source": [
    "seq_model = nn.Sequential(\n",
    "    nn.Linear(1,13),\n",
    "    nn.Tanh(),\n",
    "    nn.Linear(13,1)\n",
    ")\n",
    "seq_model"
   ]
  },
  {
   "cell_type": "code",
   "execution_count": 25,
   "metadata": {},
   "outputs": [
    {
     "data": {
      "text/plain": [
       "[Parameter containing:\n",
       " tensor([[ 0.9993],\n",
       "         [ 0.5695],\n",
       "         [ 0.9851],\n",
       "         [-0.0175],\n",
       "         [ 0.9257],\n",
       "         [-0.2527],\n",
       "         [-0.2931],\n",
       "         [-0.4282],\n",
       "         [ 0.1921],\n",
       "         [-0.4833],\n",
       "         [-0.9365],\n",
       "         [ 0.2118],\n",
       "         [ 0.9801]], requires_grad=True),\n",
       " Parameter containing:\n",
       " tensor([-0.1320,  0.6839, -0.1541,  0.0138,  0.8493, -0.8541,  0.9964, -0.8775,\n",
       "          0.5653,  0.9459,  0.3301,  0.3360,  0.6509], requires_grad=True),\n",
       " Parameter containing:\n",
       " tensor([[ 0.2117, -0.1964, -0.0292, -0.2040,  0.0767, -0.0810, -0.1954, -0.2215,\n",
       "          -0.0930, -0.2602,  0.2720, -0.2747, -0.0376]], requires_grad=True),\n",
       " Parameter containing:\n",
       " tensor([-0.1462], requires_grad=True)]"
      ]
     },
     "execution_count": 25,
     "metadata": {},
     "output_type": "execute_result"
    }
   ],
   "source": [
    "[param for param in seq_model.parameters()]"
   ]
  },
  {
   "cell_type": "code",
   "execution_count": 29,
   "metadata": {},
   "outputs": [
    {
     "name": "stdout",
     "output_type": "stream",
     "text": [
      "0.weight torch.Size([13, 1])\n",
      "0.bias torch.Size([13])\n",
      "2.weight torch.Size([1, 13])\n",
      "2.bias torch.Size([1])\n"
     ]
    }
   ],
   "source": [
    "for name, param in seq_model.named_parameters():\n",
    "    print(name, param.shape)"
   ]
  },
  {
   "cell_type": "code",
   "execution_count": 32,
   "metadata": {},
   "outputs": [],
   "source": [
    "seq_model = nn.Sequential(OrderedDict([\n",
    "('hidden_linear', nn.Linear(1, 8)),\n",
    "('hidden_activation', nn.Tanh()),\n",
    "('output_linear', nn.Linear(8, 1))\n",
    "]))"
   ]
  },
  {
   "cell_type": "code",
   "execution_count": 33,
   "metadata": {},
   "outputs": [
    {
     "name": "stdout",
     "output_type": "stream",
     "text": [
      "hidden_linear.weight torch.Size([8, 1])\n",
      "hidden_linear.bias torch.Size([8])\n",
      "output_linear.weight torch.Size([1, 8])\n",
      "output_linear.bias torch.Size([1])\n"
     ]
    }
   ],
   "source": [
    "for name, param in seq_model.named_parameters():\n",
    "    print(name, param.shape)"
   ]
  },
  {
   "cell_type": "code",
   "execution_count": 37,
   "metadata": {},
   "outputs": [
    {
     "data": {
      "text/plain": [
       "Parameter containing:\n",
       "tensor([[0.2776, 0.0458, 0.0994, 0.1589, 0.1573, 0.1018, 0.1252, 0.3262]],\n",
       "       requires_grad=True)"
      ]
     },
     "execution_count": 37,
     "metadata": {},
     "output_type": "execute_result"
    }
   ],
   "source": [
    "seq_model.output_linear.weight"
   ]
  },
  {
   "cell_type": "code",
   "execution_count": 35,
   "metadata": {},
   "outputs": [
    {
     "data": {
      "text/plain": [
       "Sequential(\n",
       "  (hidden_linear): Linear(in_features=1, out_features=8, bias=True)\n",
       "  (hidden_activation): Tanh()\n",
       "  (output_linear): Linear(in_features=8, out_features=1, bias=True)\n",
       ")"
      ]
     },
     "execution_count": 35,
     "metadata": {},
     "output_type": "execute_result"
    }
   ],
   "source": [
    "seq_model"
   ]
  },
  {
   "cell_type": "code",
   "execution_count": null,
   "metadata": {},
   "outputs": [],
   "source": []
  }
 ],
 "metadata": {
  "kernelspec": {
   "display_name": "Python 3",
   "language": "python",
   "name": "python3"
  },
  "language_info": {
   "codemirror_mode": {
    "name": "ipython",
    "version": 3
   },
   "file_extension": ".py",
   "mimetype": "text/x-python",
   "name": "python",
   "nbconvert_exporter": "python",
   "pygments_lexer": "ipython3",
   "version": "3.8.3"
  }
 },
 "nbformat": 4,
 "nbformat_minor": 4
}
